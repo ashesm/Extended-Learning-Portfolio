{
  "nbformat": 4,
  "nbformat_minor": 0,
  "metadata": {
    "colab": {
      "name": "MPG.ipynb",
      "provenance": [],
      "collapsed_sections": [],
      "authorship_tag": "ABX9TyM1qNzwyikGMgMdA75nxAF0",
      "include_colab_link": true
    },
    "kernelspec": {
      "name": "python3",
      "display_name": "Python 3"
    },
    "language_info": {
      "name": "python"
    }
  },
  "cells": [
    {
      "cell_type": "markdown",
      "metadata": {
        "id": "view-in-github",
        "colab_type": "text"
      },
      "source": [
        "<a href=\"https://colab.research.google.com/github/ashesm/Extended-Learning-Portfolio/blob/main/MPG.ipynb\" target=\"_parent\"><img src=\"https://colab.research.google.com/assets/colab-badge.svg\" alt=\"Open In Colab\"/></a>"
      ]
    },
    {
      "cell_type": "code",
      "metadata": {
        "colab": {
          "base_uri": "https://localhost:8080/"
        },
        "id": "WpPpNK5GI8vn",
        "outputId": "63763ec8-d542-4073-89c2-f9ddfda0255a"
      },
      "source": [
        "def efficiency(dist, gas):\n",
        "    return dist/gas\n",
        "\n",
        "dist_traveled = input (\"How far did your car travel? (In miles?) \")\n",
        "gas_consumed = input (\"How much gas did you use? (In gallons)\")\n",
        "\n",
        "MPG = efficiency(float(dist_traveled), float(gas_consumed))\n",
        "print (MPG)"
      ],
      "execution_count": 2,
      "outputs": [
        {
          "output_type": "stream",
          "name": "stdout",
          "text": [
            "How far did your car travel? (In miles?) 50\n",
            "How much gas did you use? (In gallons)3\n",
            "16.666666666666668\n"
          ]
        }
      ]
    },
    {
      "cell_type": "code",
      "metadata": {
        "colab": {
          "base_uri": "https://localhost:8080/"
        },
        "id": "YNWEWcS0JoEs",
        "outputId": "845c483b-8fd0-4fa0-adf4-2495af6480ec"
      },
      "source": [
        "def efficiency(dist, gas):\n",
        " return dist/gas\n",
        "dist_traveled = input (\"How far did your car travel? (In kilometers?)\")\n",
        "liters = input (\"How much gas did you use? (In liters)\")\n",
        "MPG = efficiency(float(dist_traveled), float(liters))\n",
        "print (MPG)"
      ],
      "execution_count": 3,
      "outputs": [
        {
          "output_type": "stream",
          "name": "stdout",
          "text": [
            "How far did your car travel? (In kilometers?)50\n",
            "How much gas did you use? (In liters)10\n",
            "5.0\n"
          ]
        }
      ]
    }
  ]
}